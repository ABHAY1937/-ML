{
  "nbformat": 4,
  "nbformat_minor": 0,
  "metadata": {
    "colab": {
      "provenance": [],
      "authorship_tag": "ABX9TyMIHRw6cVf8ntg8p+P177as",
      "include_colab_link": true
    },
    "kernelspec": {
      "name": "python3",
      "display_name": "Python 3"
    },
    "language_info": {
      "name": "python"
    }
  },
  "cells": [
    {
      "cell_type": "markdown",
      "metadata": {
        "id": "view-in-github",
        "colab_type": "text"
      },
      "source": [
        "<a href=\"https://colab.research.google.com/github/ABHAY1937/-ML/blob/main/image_classification_using_Support_vector_Machine.ipynb\" target=\"_parent\"><img src=\"https://colab.research.google.com/assets/colab-badge.svg\" alt=\"Open In Colab\"/></a>"
      ]
    },
    {
      "cell_type": "code",
      "execution_count": 1,
      "metadata": {
        "colab": {
          "base_uri": "https://localhost:8080/"
        },
        "id": "HjJ9USt7dEVI",
        "outputId": "a3524d39-7144-49b7-fbd5-20d91c3f5e89"
      },
      "outputs": [
        {
          "output_type": "stream",
          "name": "stdout",
          "text": [
            "Mounted at /content/drive\n"
          ]
        }
      ],
      "source": [
        "#drive mount\n",
        "from google.colab import drive\n",
        "drive.mount('/content/drive')"
      ]
    },
    {
      "cell_type": "code",
      "source": [
        "import pandas as pd\n",
        "from sklearn.svm import SVC\n",
        "import numpy as np\n",
        "import matplotlib.pyplot as plt\n",
        "import os # files and dictionary path define ,(for reading the file)\n",
        "from skimage.io import imread #used for reading images\n",
        "from sklearn.model_selection import train_test_split\n",
        "from skimage.transform import resize #to resize image\n"
      ],
      "metadata": {
        "id": "RjPxU7CYfEq-"
      },
      "execution_count": 2,
      "outputs": []
    },
    {
      "cell_type": "code",
      "source": [
        "os.listdir('/content/drive/MyDrive/data') #listdir is for listing the corresponding values"
      ],
      "metadata": {
        "colab": {
          "base_uri": "https://localhost:8080/"
        },
        "id": "DghFirO9gL9g",
        "outputId": "2fb371b8-a8e1-483e-d882-8b03fac27855"
      },
      "execution_count": 3,
      "outputs": [
        {
          "output_type": "execute_result",
          "data": {
            "text/plain": [
              "['cat', 'dog']"
            ]
          },
          "metadata": {},
          "execution_count": 3
        }
      ]
    },
    {
      "cell_type": "code",
      "source": [
        "len(os.listdir('/content/drive/MyDrive/data/cat')) #total no of images"
      ],
      "metadata": {
        "colab": {
          "base_uri": "https://localhost:8080/"
        },
        "id": "qtqWX3yahIM2",
        "outputId": "85f78783-43da-4d3f-d297-074d47405767"
      },
      "execution_count": 4,
      "outputs": [
        {
          "output_type": "execute_result",
          "data": {
            "text/plain": [
              "85"
            ]
          },
          "metadata": {},
          "execution_count": 4
        }
      ]
    },
    {
      "cell_type": "code",
      "source": [
        "len(os.listdir('/content/drive/MyDrive/data/dog'))"
      ],
      "metadata": {
        "colab": {
          "base_uri": "https://localhost:8080/"
        },
        "id": "QPjkU_xlhRzw",
        "outputId": "352713e2-2a31-4227-a2b5-585d4e833608"
      },
      "execution_count": 5,
      "outputs": [
        {
          "output_type": "execute_result",
          "data": {
            "text/plain": [
              "50"
            ]
          },
          "metadata": {},
          "execution_count": 5
        }
      ]
    },
    {
      "cell_type": "code",
      "source": [
        "#cat\n",
        "#dog\n",
        "catpath = os.path.join('/content/drive/MyDrive/data','cat')\n",
        "for img in os.listdir(catpath):   #\n",
        "  print(img)"
      ],
      "metadata": {
        "colab": {
          "base_uri": "https://localhost:8080/"
        },
        "id": "OQW4g-e9hVjl",
        "outputId": "316e7651-c7a9-4f05-e99a-a8c0804a3812"
      },
      "execution_count": 6,
      "outputs": [
        {
          "output_type": "stream",
          "name": "stdout",
          "text": [
            "cat.35.jpg\n",
            "cat.36.jpg\n",
            "cat.37.jpg\n",
            "cat.38.jpg\n",
            "cat.39.jpg\n",
            "cat.40.jpg\n",
            "cat.41.jpg\n",
            "cat.42.jpg\n",
            "cat.43.jpg\n",
            "cat.44.jpg\n",
            "cat.45.jpg\n",
            "cat.46.jpg\n",
            "cat.47.jpg\n",
            "cat.48.jpg\n",
            "cat.49.jpg\n",
            "cat.50.jpg\n",
            "cat.51.jpg\n",
            "cat.52.jpg\n",
            "cat.53.jpg\n",
            "cat.54.jpg\n",
            "cat.55.jpg\n",
            "cat.56.jpg\n",
            "cat.57.jpg\n",
            "cat.58.jpg\n",
            "cat.59.jpg\n",
            "cat.60.jpg\n",
            "cat.61.jpg\n",
            "cat.62.jpg\n",
            "cat.63.jpg\n",
            "cat.64.jpg\n",
            "cat.65.jpg\n",
            "cat.66.jpg\n",
            "cat.67.jpg\n",
            "cat.68.jpg\n",
            "cat.69.jpg\n",
            "cat.70.jpg\n",
            "cat.71.jpg\n",
            "cat.72.jpg\n",
            "cat.73.jpg\n",
            "cat.74.jpg\n",
            "cat.75.jpg\n",
            "cat.76.jpg\n",
            "cat.77.jpg\n",
            "cat.78.jpg\n",
            "cat.79.jpg\n",
            "cat.80.jpg\n",
            "cat.81.jpg\n",
            "cat.82.jpg\n",
            "cat.83.jpg\n",
            "cat.84.jpg\n",
            "cat.85.jpg\n",
            "cat.86.jpg\n",
            "cat.87.jpg\n",
            "cat.88.jpg\n",
            "cat.89.jpg\n",
            "cat.90.jpg\n",
            "cat.91.jpg\n",
            "cat.92.jpg\n",
            "cat.93.jpg\n",
            "cat.94.jpg\n",
            "cat.95.jpg\n",
            "cat.96.jpg\n",
            "cat.97.jpg\n",
            "cat.98.jpg\n",
            "cat.99.jpg\n",
            "cat.100.jpg\n",
            "cat.101.jpg\n",
            "cat.102.jpg\n",
            "cat.103.jpg\n",
            "cat.104.jpg\n",
            "cat.105.jpg\n",
            "cat.106.jpg\n",
            "cat.107.jpg\n",
            "cat.108.jpg\n",
            "cat.109.jpg\n",
            "cat.110.jpg\n",
            "cat.112.jpg\n",
            "cat.111.jpg\n",
            "cat.113.jpg\n",
            "cat.114.jpg\n",
            "cat.117.jpg\n",
            "cat.115.jpg\n",
            "cat.116.jpg\n",
            "cat.118.jpg\n",
            "cat.119.jpg\n"
          ]
        }
      ]
    },
    {
      "cell_type": "code",
      "source": [
        "\n",
        "#dog\n",
        "dogpath = os.path.join('/content/drive/MyDrive/data','dog')\n",
        "for img in os.listdir(dogpath):\n",
        "  print(img)"
      ],
      "metadata": {
        "colab": {
          "base_uri": "https://localhost:8080/"
        },
        "id": "onqS-6hAhTkW",
        "outputId": "b263e02c-c66d-48ad-fd5f-e02014d7ad9f"
      },
      "execution_count": 7,
      "outputs": [
        {
          "output_type": "stream",
          "name": "stdout",
          "text": [
            "dog.1.jpg\n",
            "dog.2.jpg\n",
            "dog.3.jpg\n",
            "dog.4.jpg\n",
            "dog.5.jpg\n",
            "dog.6.jpg\n",
            "dog.7.jpg\n",
            "dog.8.jpg\n",
            "dog.9.jpg\n",
            "dog.10.jpg\n",
            "dog.11.jpg\n",
            "dog.12.jpg\n",
            "dog.13.jpg\n",
            "dog.14.jpg\n",
            "dog.15.jpg\n",
            "dog.16.jpg\n",
            "dog.17.jpg\n",
            "dog.18.jpg\n",
            "dog.19.jpg\n",
            "dog.20.jpg\n",
            "dog.21.jpg\n",
            "dog.22.jpg\n",
            "dog.23.jpg\n",
            "dog.24.jpg\n",
            "dog.25.jpg\n",
            "dog.26.jpg\n",
            "dog.27.jpg\n",
            "dog.28.jpg\n",
            "dog.29.jpg\n",
            "dog.30.jpg\n",
            "dog.31.jpg\n",
            "dog.32.jpg\n",
            "dog.33.jpg\n",
            "dog.34.jpg\n",
            "dog.35.jpg\n",
            "dog.36.jpg\n",
            "dog.37.jpg\n",
            "dog.38.jpg\n",
            "dog.39.jpg\n",
            "dog.40.jpg\n",
            "dog.41.jpg\n",
            "dog.42.jpg\n",
            "dog.43.jpg\n",
            "dog.44.jpg\n",
            "dog.46.jpg\n",
            "dog.45.jpg\n",
            "dog.49.jpg\n",
            "dog.47.jpg\n",
            "dog.48.jpg\n",
            "dog.50.jpg\n"
          ]
        }
      ]
    },
    {
      "cell_type": "code",
      "source": [
        "flat_data_arr=[] #used for collecting input variable\n",
        "target_arr=[] #used for collecting output variable\n",
        "categories = [\"cat\",\"dog\"] #cat===>cat ==>0, dog =1 ,(index)\n",
        "datadir='/content/drive/MyDrive/data'"
      ],
      "metadata": {
        "id": "0oh1TGc1ieZo"
      },
      "execution_count": 8,
      "outputs": []
    },
    {
      "cell_type": "code",
      "source": [
        "for i in categories:  #cat dog\n",
        "  print(\"Loading categories .........\") #cat\n",
        "  path = os.path.join(datadir,i) # first cat data then comes dog\n",
        "  for img in os.listdir(path):\n",
        "    img_arr = imread(os.path.join(path,img))\n",
        "    img_resize = resize(img_arr,(150,150,3))\n",
        "    flat_data_arr.append(img_resize.flatten())  #flattern for converting to 1D\n",
        "    target_arr.append(categories.index(i))\n",
        "  print('Loaded completely..',i)\n"
      ],
      "metadata": {
        "colab": {
          "base_uri": "https://localhost:8080/"
        },
        "id": "7VUXeUvekfm_",
        "outputId": "ccad1b63-f158-4897-b1b0-0be807b156e6"
      },
      "execution_count": 9,
      "outputs": [
        {
          "output_type": "stream",
          "name": "stdout",
          "text": [
            "Loading categories .........\n",
            "Loaded completely.. cat\n",
            "Loading categories .........\n",
            "Loaded completely.. dog\n"
          ]
        }
      ]
    },
    {
      "cell_type": "code",
      "source": [
        "flat_data = np.array(flat_data_arr) #convert into array\n",
        "target_data = np.array(target_arr)  #convert into array\n",
        "df =  pd.DataFrame(flat_data)\n",
        "df['Target']=target_data"
      ],
      "metadata": {
        "id": "PhvsZKn-oY3c"
      },
      "execution_count": 10,
      "outputs": []
    },
    {
      "cell_type": "code",
      "source": [
        "x = df.iloc[:,:-1]\n",
        "y = df.iloc[:,-1]\n",
        "x_train,x_test,y_train,y_test = train_test_split(x,y,test_size=0.20,random_state=42)"
      ],
      "metadata": {
        "id": "iUZDv0L6qiCG"
      },
      "execution_count": 14,
      "outputs": []
    },
    {
      "cell_type": "code",
      "source": [
        "from sklearn.svm import SVC #SUPPORT VECTOR CLASSIFIER\n",
        "model=SVC()\n",
        "model.fit(x_train,y_train)"
      ],
      "metadata": {
        "colab": {
          "base_uri": "https://localhost:8080/",
          "height": 75
        },
        "id": "KdWAd75kqq4G",
        "outputId": "c7c74098-dd58-4dd9-9130-43aa420de255"
      },
      "execution_count": 15,
      "outputs": [
        {
          "output_type": "execute_result",
          "data": {
            "text/plain": [
              "SVC()"
            ],
            "text/html": [
              "<style>#sk-container-id-1 {color: black;background-color: white;}#sk-container-id-1 pre{padding: 0;}#sk-container-id-1 div.sk-toggleable {background-color: white;}#sk-container-id-1 label.sk-toggleable__label {cursor: pointer;display: block;width: 100%;margin-bottom: 0;padding: 0.3em;box-sizing: border-box;text-align: center;}#sk-container-id-1 label.sk-toggleable__label-arrow:before {content: \"▸\";float: left;margin-right: 0.25em;color: #696969;}#sk-container-id-1 label.sk-toggleable__label-arrow:hover:before {color: black;}#sk-container-id-1 div.sk-estimator:hover label.sk-toggleable__label-arrow:before {color: black;}#sk-container-id-1 div.sk-toggleable__content {max-height: 0;max-width: 0;overflow: hidden;text-align: left;background-color: #f0f8ff;}#sk-container-id-1 div.sk-toggleable__content pre {margin: 0.2em;color: black;border-radius: 0.25em;background-color: #f0f8ff;}#sk-container-id-1 input.sk-toggleable__control:checked~div.sk-toggleable__content {max-height: 200px;max-width: 100%;overflow: auto;}#sk-container-id-1 input.sk-toggleable__control:checked~label.sk-toggleable__label-arrow:before {content: \"▾\";}#sk-container-id-1 div.sk-estimator input.sk-toggleable__control:checked~label.sk-toggleable__label {background-color: #d4ebff;}#sk-container-id-1 div.sk-label input.sk-toggleable__control:checked~label.sk-toggleable__label {background-color: #d4ebff;}#sk-container-id-1 input.sk-hidden--visually {border: 0;clip: rect(1px 1px 1px 1px);clip: rect(1px, 1px, 1px, 1px);height: 1px;margin: -1px;overflow: hidden;padding: 0;position: absolute;width: 1px;}#sk-container-id-1 div.sk-estimator {font-family: monospace;background-color: #f0f8ff;border: 1px dotted black;border-radius: 0.25em;box-sizing: border-box;margin-bottom: 0.5em;}#sk-container-id-1 div.sk-estimator:hover {background-color: #d4ebff;}#sk-container-id-1 div.sk-parallel-item::after {content: \"\";width: 100%;border-bottom: 1px solid gray;flex-grow: 1;}#sk-container-id-1 div.sk-label:hover label.sk-toggleable__label {background-color: #d4ebff;}#sk-container-id-1 div.sk-serial::before {content: \"\";position: absolute;border-left: 1px solid gray;box-sizing: border-box;top: 0;bottom: 0;left: 50%;z-index: 0;}#sk-container-id-1 div.sk-serial {display: flex;flex-direction: column;align-items: center;background-color: white;padding-right: 0.2em;padding-left: 0.2em;position: relative;}#sk-container-id-1 div.sk-item {position: relative;z-index: 1;}#sk-container-id-1 div.sk-parallel {display: flex;align-items: stretch;justify-content: center;background-color: white;position: relative;}#sk-container-id-1 div.sk-item::before, #sk-container-id-1 div.sk-parallel-item::before {content: \"\";position: absolute;border-left: 1px solid gray;box-sizing: border-box;top: 0;bottom: 0;left: 50%;z-index: -1;}#sk-container-id-1 div.sk-parallel-item {display: flex;flex-direction: column;z-index: 1;position: relative;background-color: white;}#sk-container-id-1 div.sk-parallel-item:first-child::after {align-self: flex-end;width: 50%;}#sk-container-id-1 div.sk-parallel-item:last-child::after {align-self: flex-start;width: 50%;}#sk-container-id-1 div.sk-parallel-item:only-child::after {width: 0;}#sk-container-id-1 div.sk-dashed-wrapped {border: 1px dashed gray;margin: 0 0.4em 0.5em 0.4em;box-sizing: border-box;padding-bottom: 0.4em;background-color: white;}#sk-container-id-1 div.sk-label label {font-family: monospace;font-weight: bold;display: inline-block;line-height: 1.2em;}#sk-container-id-1 div.sk-label-container {text-align: center;}#sk-container-id-1 div.sk-container {/* jupyter's `normalize.less` sets `[hidden] { display: none; }` but bootstrap.min.css set `[hidden] { display: none !important; }` so we also need the `!important` here to be able to override the default hidden behavior on the sphinx rendered scikit-learn.org. See: https://github.com/scikit-learn/scikit-learn/issues/21755 */display: inline-block !important;position: relative;}#sk-container-id-1 div.sk-text-repr-fallback {display: none;}</style><div id=\"sk-container-id-1\" class=\"sk-top-container\"><div class=\"sk-text-repr-fallback\"><pre>SVC()</pre><b>In a Jupyter environment, please rerun this cell to show the HTML representation or trust the notebook. <br />On GitHub, the HTML representation is unable to render, please try loading this page with nbviewer.org.</b></div><div class=\"sk-container\" hidden><div class=\"sk-item\"><div class=\"sk-estimator sk-toggleable\"><input class=\"sk-toggleable__control sk-hidden--visually\" id=\"sk-estimator-id-1\" type=\"checkbox\" checked><label for=\"sk-estimator-id-1\" class=\"sk-toggleable__label sk-toggleable__label-arrow\">SVC</label><div class=\"sk-toggleable__content\"><pre>SVC()</pre></div></div></div></div></div>"
            ]
          },
          "metadata": {},
          "execution_count": 15
        }
      ]
    },
    {
      "cell_type": "code",
      "source": [
        "y_pred=model.predict(x_test)\n",
        "y_pred"
      ],
      "metadata": {
        "colab": {
          "base_uri": "https://localhost:8080/"
        },
        "id": "iq7_VDyBsErh",
        "outputId": "c82e35c9-5283-47e2-9cbf-df6e82a36e26"
      },
      "execution_count": 16,
      "outputs": [
        {
          "output_type": "execute_result",
          "data": {
            "text/plain": [
              "array([0, 0, 0, 0, 0, 0, 0, 0, 0, 0, 0, 0, 0, 0, 0, 0, 0, 0, 0, 0, 0, 0,\n",
              "       0, 0, 0, 0, 0])"
            ]
          },
          "metadata": {},
          "execution_count": 16
        }
      ]
    },
    {
      "cell_type": "code",
      "source": [
        "from sklearn.metrics import confusion_matrix ,accuracy_score\n",
        "print('accuracy score',accuracy_score(y_test,y_pred))"
      ],
      "metadata": {
        "colab": {
          "base_uri": "https://localhost:8080/"
        },
        "id": "IGcUNmhTsIhA",
        "outputId": "205da616-bd63-46dc-84c2-ec42ad2b7e9f"
      },
      "execution_count": 17,
      "outputs": [
        {
          "output_type": "stream",
          "name": "stdout",
          "text": [
            "accuracy score 0.6666666666666666\n"
          ]
        }
      ]
    },
    {
      "cell_type": "code",
      "source": [
        "path1 = '/content/drive/MyDrive/dog image.jpg'\n",
        "img = imread(path1)\n",
        "img =  resize(img,(150,150,3)).flatten().reshape(1,-1)\n",
        "model.predict(img)"
      ],
      "metadata": {
        "colab": {
          "base_uri": "https://localhost:8080/"
        },
        "id": "hoC7zECZsd1u",
        "outputId": "7cda9a76-e69b-4f5d-a55c-05311583fbfc"
      },
      "execution_count": 20,
      "outputs": [
        {
          "output_type": "execute_result",
          "data": {
            "text/plain": [
              "array([0])"
            ]
          },
          "metadata": {},
          "execution_count": 20
        }
      ]
    }
  ]
}