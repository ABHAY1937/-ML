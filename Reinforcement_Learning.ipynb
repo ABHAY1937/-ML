{
  "nbformat": 4,
  "nbformat_minor": 0,
  "metadata": {
    "colab": {
      "provenance": [],
      "authorship_tag": "ABX9TyOaLOkfCpGvJbJCJXYvI5mH",
      "include_colab_link": true
    },
    "kernelspec": {
      "name": "python3",
      "display_name": "Python 3"
    },
    "language_info": {
      "name": "python"
    }
  },
  "cells": [
    {
      "cell_type": "markdown",
      "metadata": {
        "id": "view-in-github",
        "colab_type": "text"
      },
      "source": [
        "<a href=\"https://colab.research.google.com/github/ABHAY1937/-ML/blob/main/Reinforcement_Learning.ipynb\" target=\"_parent\"><img src=\"https://colab.research.google.com/assets/colab-badge.svg\" alt=\"Open In Colab\"/></a>"
      ]
    },
    {
      "cell_type": "code",
      "execution_count": 2,
      "metadata": {
        "id": "am9inIqrlXaR"
      },
      "outputs": [],
      "source": [
        "import random\n",
        "from typing import List\n",
        "\n",
        "class SampleEnvironment:\n",
        "  def __init__(self):\n",
        "    self.steps_left = 20\n",
        "\n",
        "  def get_observation(self) -> List[float]:\n",
        "    return [0.0, 0.0, 0.0]\n",
        "\n",
        "  def get_actions(self) -> List[int]:\n",
        "    return [0, 1]\n",
        "\n",
        "  def is_done(self) -> bool:\n",
        "    return self.steps_left == 0\n",
        "\n",
        "  def action(self, action: int) -> float:\n",
        "    if self.is_done():\n",
        "      raise Exception('Game is over')\n",
        "    self.steps_left -= 1\n",
        "    return random.random()\n"
      ]
    },
    {
      "cell_type": "code",
      "source": [
        "class Agent:\n",
        "  def __init__(self):\n",
        "    self.total_reward =0.0\n",
        "\n",
        "  def step(self, env: SampleEnvironment):\n",
        "    current_obs = env.get_observation()\n",
        "    print(current_obs)\n",
        "    actions = env.get_actions()\n",
        "    print(actions)\n",
        "    reward = env.action(random.choice(actions))\n",
        "    self.total_reward += reward\n",
        "    print('Total reward {}'.format(self.total_reward))"
      ],
      "metadata": {
        "id": "F_rLGgF3mqK_"
      },
      "execution_count": 9,
      "outputs": []
    },
    {
      "cell_type": "code",
      "source": [
        "if __name__ == '__main__':\n",
        "  env = SampleEnvironment()\n",
        "  agent = Agent()\n",
        "  i=0\n",
        "\n",
        "  while not env.is_done():\n",
        "    i= i+1\n",
        "    print('steps()'.format(i))\n",
        "    agent.step(env)\n",
        "\n",
        "  print('Total reward got: %4f' % agent.total_reward)\n"
      ],
      "metadata": {
        "colab": {
          "base_uri": "https://localhost:8080/"
        },
        "id": "6qmF3PASoJss",
        "outputId": "7ab795d9-ce7b-41e1-ac4d-bfae31826012"
      },
      "execution_count": 10,
      "outputs": [
        {
          "output_type": "stream",
          "name": "stdout",
          "text": [
            "steps()\n",
            "[0.0, 0.0, 0.0]\n",
            "[0, 1]\n",
            "Total reward 0.14345407928101428\n",
            "steps()\n",
            "[0.0, 0.0, 0.0]\n",
            "[0, 1]\n",
            "Total reward 0.878755466558702\n",
            "steps()\n",
            "[0.0, 0.0, 0.0]\n",
            "[0, 1]\n",
            "Total reward 1.613903858398878\n",
            "steps()\n",
            "[0.0, 0.0, 0.0]\n",
            "[0, 1]\n",
            "Total reward 2.5956823633268744\n",
            "steps()\n",
            "[0.0, 0.0, 0.0]\n",
            "[0, 1]\n",
            "Total reward 3.0330132362879088\n",
            "steps()\n",
            "[0.0, 0.0, 0.0]\n",
            "[0, 1]\n",
            "Total reward 3.7796396570349997\n",
            "steps()\n",
            "[0.0, 0.0, 0.0]\n",
            "[0, 1]\n",
            "Total reward 4.407058385196408\n",
            "steps()\n",
            "[0.0, 0.0, 0.0]\n",
            "[0, 1]\n",
            "Total reward 5.183716966608265\n",
            "steps()\n",
            "[0.0, 0.0, 0.0]\n",
            "[0, 1]\n",
            "Total reward 5.28040037295255\n",
            "steps()\n",
            "[0.0, 0.0, 0.0]\n",
            "[0, 1]\n",
            "Total reward 5.763936397880054\n",
            "steps()\n",
            "[0.0, 0.0, 0.0]\n",
            "[0, 1]\n",
            "Total reward 6.499880017564745\n",
            "steps()\n",
            "[0.0, 0.0, 0.0]\n",
            "[0, 1]\n",
            "Total reward 7.404065936425408\n",
            "steps()\n",
            "[0.0, 0.0, 0.0]\n",
            "[0, 1]\n",
            "Total reward 8.106823555403437\n",
            "steps()\n",
            "[0.0, 0.0, 0.0]\n",
            "[0, 1]\n",
            "Total reward 8.565365690354868\n",
            "steps()\n",
            "[0.0, 0.0, 0.0]\n",
            "[0, 1]\n",
            "Total reward 9.274907846440392\n",
            "steps()\n",
            "[0.0, 0.0, 0.0]\n",
            "[0, 1]\n",
            "Total reward 10.109761281301903\n",
            "steps()\n",
            "[0.0, 0.0, 0.0]\n",
            "[0, 1]\n",
            "Total reward 10.705156992352324\n",
            "steps()\n",
            "[0.0, 0.0, 0.0]\n",
            "[0, 1]\n",
            "Total reward 11.703293109537002\n",
            "steps()\n",
            "[0.0, 0.0, 0.0]\n",
            "[0, 1]\n",
            "Total reward 12.653771700557808\n",
            "steps()\n",
            "[0.0, 0.0, 0.0]\n",
            "[0, 1]\n",
            "Total reward 12.952682215689524\n",
            "Total reward got: 12.952682\n"
          ]
        }
      ]
    },
    {
      "cell_type": "code",
      "source": [],
      "metadata": {
        "id": "6Bn7fboCozD-"
      },
      "execution_count": null,
      "outputs": []
    }
  ]
}